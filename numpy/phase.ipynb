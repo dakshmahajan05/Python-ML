{
 "cells": [
  {
   "cell_type": "markdown",
   "id": "ea4bbb55",
   "metadata": {},
   "source": [
    "## Numpy array operation "
   ]
  },
  {
   "cell_type": "markdown",
   "id": "f58c1eed",
   "metadata": {},
   "source": [
    "import numpy as np"
   ]
  },
  {
   "cell_type": "code",
   "execution_count": 5,
   "id": "a577ad76",
   "metadata": {},
   "outputs": [],
   "source": [
    "import numpy as np"
   ]
  },
  {
   "cell_type": "markdown",
   "id": "140b7638",
   "metadata": {},
   "source": [
    "basic slicing"
   ]
  },
  {
   "cell_type": "code",
   "execution_count": 6,
   "id": "a6e1c2c9",
   "metadata": {},
   "outputs": [
    {
     "name": "stdout",
     "output_type": "stream",
     "text": [
      "[ 8 10  1  3]\n",
      "[4 8 1 5]\n",
      "5\n"
     ]
    }
   ],
   "source": [
    "arr=np.array([2,4,6,8,10,1,3,5,7,9])\n",
    "print(arr[3:7]) ## basic slicing\n",
    "print(arr[1:8:2])  # Slicing with step\n",
    "print(arr[-3]) ##negetive indexing in py"
   ]
  },
  {
   "cell_type": "code",
   "execution_count": 7,
   "id": "a91a83ab",
   "metadata": {},
   "outputs": [
    {
     "name": "stdout",
     "output_type": "stream",
     "text": [
      "position (2,3):  6\n",
      "whole row:  [7 8 9]\n",
      "entire column:  [2 5 8]\n"
     ]
    }
   ],
   "source": [
    "arr_2D=np.array([[1,2,3],\n",
    "                 [4,5,6],\n",
    "                 [7,8,9]\n",
    "                 ])\n",
    "print(\"position (2,3): \",arr_2D[1,2])\n",
    "print(\"whole row: \",arr_2D[2])\n",
    "print(\"entire column: \",arr_2D[:,1])"
   ]
  },
  {
   "cell_type": "markdown",
   "id": "dd54f660",
   "metadata": {},
   "source": [
    "## sorting"
   ]
  },
  {
   "cell_type": "code",
   "execution_count": 8,
   "id": "9cc09a46",
   "metadata": {},
   "outputs": [
    {
     "name": "stdout",
     "output_type": "stream",
     "text": [
      "[1 2 3 4 5 6 7]\n"
     ]
    }
   ],
   "source": [
    "uunsorted=np.array([3,1,2,4,5,7,6])\n",
    "sorted=np.sort(uunsorted)\n",
    "print(sorted)"
   ]
  },
  {
   "cell_type": "code",
   "execution_count": 9,
   "id": "bef30376",
   "metadata": {},
   "outputs": [
    {
     "name": "stdout",
     "output_type": "stream",
     "text": [
      "[[2 1]\n",
      " [4 3]\n",
      " [6 5]]\n",
      "[[1 2]\n",
      " [5 6]\n",
      " [3 4]]\n"
     ]
    }
   ],
   "source": [
    "arr_2D_unsorted=np.array([[2,1],\n",
    "                          [6,5],\n",
    "                          [4,3]\n",
    "                          ])\n",
    "print(np.sort(arr_2D_unsorted,axis=0)) ## top to bottom\n",
    "\n",
    "print(np.sort(arr_2D_unsorted,axis=1)) ##left to right"
   ]
  },
  {
   "cell_type": "markdown",
   "id": "849529c7",
   "metadata": {},
   "source": [
    "## Filtering"
   ]
  },
  {
   "cell_type": "code",
   "execution_count": 10,
   "id": "d8b9d46a",
   "metadata": {},
   "outputs": [
    {
     "name": "stdout",
     "output_type": "stream",
     "text": [
      "[2 4 6 8]\n"
     ]
    }
   ],
   "source": [
    "number=np.array([1,2,3,4,5,6,7,8])\n",
    "even_numbers=number[number%2==0]\n",
    "print(even_numbers)"
   ]
  },
  {
   "cell_type": "code",
   "execution_count": 11,
   "id": "9735d8da",
   "metadata": {},
   "outputs": [
    {
     "name": "stdout",
     "output_type": "stream",
     "text": [
      "number greater than 5:  [6 7 8]\n"
     ]
    }
   ],
   "source": [
    "## filter with mask\n",
    "mask=number>5\n",
    "print(\"number greater than 5: \" ,number[mask])\n"
   ]
  },
  {
   "cell_type": "code",
   "execution_count": 12,
   "id": "c232cfed",
   "metadata": {},
   "outputs": [
    {
     "name": "stdout",
     "output_type": "stream",
     "text": [
      "[False False False False False  True  True  True]\n"
     ]
    }
   ],
   "source": [
    "condition_array=np.array(number>5) ## return bool result for the condition\n",
    "print(condition_array)"
   ]
  },
  {
   "cell_type": "code",
   "execution_count": 13,
   "id": "047b5328",
   "metadata": {},
   "outputs": [
    {
     "name": "stdout",
     "output_type": "stream",
     "text": [
      "[ 1  2  3  4  5 24 28 32]\n"
     ]
    }
   ],
   "source": [
    "np_2_array=np.where(number>5,number*4,number)\n",
    "print(np_2_array)\n",
    "\n",
    "#syntx like:\n",
    "\n",
    "# if(number>5){\n",
    "#     number*4\n",
    "# }else{\n",
    "#     number\n",
    "# }\n"
   ]
  },
  {
   "cell_type": "code",
   "execution_count": 14,
   "id": "958ca91f",
   "metadata": {},
   "outputs": [
    {
     "name": "stdout",
     "output_type": "stream",
     "text": [
      "['false' 'false' 'false' 'false' 'false' 'true' 'true' 'true']\n"
     ]
    }
   ],
   "source": [
    "np_3_array=np.where(number>5,\"true\",\"false\")\n",
    "print(np_3_array)\n",
    "\n",
    "#syntx like:\n",
    "\n",
    "# if(number>5){\n",
    "#     true\n",
    "# }else{\n",
    "#    false\n",
    "# }"
   ]
  },
  {
   "cell_type": "markdown",
   "id": "bfc08502",
   "metadata": {},
   "source": [
    "## adding and removing data"
   ]
  },
  {
   "cell_type": "code",
   "execution_count": 21,
   "id": "7f891a70",
   "metadata": {},
   "outputs": [
    {
     "name": "stdout",
     "output_type": "stream",
     "text": [
      "[5 7 9]\n",
      "[1 2 3 4 5 6]\n"
     ]
    }
   ],
   "source": [
    "#merging two arrays\n",
    "arr1=np.array([1,2,3])\n",
    "arr2=np.array([4,5,6])\n",
    "\n",
    "combined=arr1+arr2\n",
    "print(combined)\n",
    "\n",
    "concat=np.concatenate((arr1,arr2))\n",
    "print(concat)"
   ]
  },
  {
   "cell_type": "markdown",
   "id": "581b0283",
   "metadata": {},
   "source": [
    "## aray compatibility"
   ]
  },
  {
   "cell_type": "code",
   "execution_count": 23,
   "id": "da94ebcb",
   "metadata": {},
   "outputs": [
    {
     "name": "stdout",
     "output_type": "stream",
     "text": [
      "compatibilty:  False\n"
     ]
    }
   ],
   "source": [
    "arr1=np.array([1,2,3])\n",
    "arr2=np.array([1,2,3,4])\n",
    "print(\"compatibilty: \",arr1.shape==arr2.shape)"
   ]
  },
  {
   "cell_type": "code",
   "execution_count": 31,
   "id": "d4627a2b",
   "metadata": {},
   "outputs": [
    {
     "name": "stdout",
     "output_type": "stream",
     "text": [
      "[[1 2]\n",
      " [3 4]\n",
      " [5 6]]\n",
      "[[1 2 7]\n",
      " [3 4 8]\n",
      " [5 6 3]]\n"
     ]
    }
   ],
   "source": [
    "original=np.array([[1,2],[3,4]])\n",
    "new_row=np.array([[5,6]])\n",
    "\n",
    "with_new_row=np.vstack((original,new_row)) #add new row\n",
    "print(with_new_row)\n",
    "\n",
    "\n",
    "new_col=np.array([[7],[8],[3]])\n",
    "with_new_col=np.hstack((with_new_row,new_col)) #add new column\n",
    "print(with_new_col)"
   ]
  },
  {
   "cell_type": "code",
   "execution_count": null,
   "id": "fe928940",
   "metadata": {},
   "outputs": [
    {
     "name": "stdout",
     "output_type": "stream",
     "text": [
      "[1 2 4]\n"
     ]
    }
   ],
   "source": [
    "# deleting\n",
    "\n",
    "arr=np.array([1,2,3,4])\n",
    "deleted=np.delete(arr,2)\n",
    "print(deleted) #array after deletion"
   ]
  },
  {
   "cell_type": "code",
   "execution_count": null,
   "id": "3db053bc",
   "metadata": {},
   "outputs": [],
   "source": []
  }
 ],
 "metadata": {
  "kernelspec": {
   "display_name": ".venv",
   "language": "python",
   "name": "python3"
  },
  "language_info": {
   "codemirror_mode": {
    "name": "ipython",
    "version": 3
   },
   "file_extension": ".py",
   "mimetype": "text/x-python",
   "name": "python",
   "nbconvert_exporter": "python",
   "pygments_lexer": "ipython3",
   "version": "3.9.6"
  }
 },
 "nbformat": 4,
 "nbformat_minor": 5
}
