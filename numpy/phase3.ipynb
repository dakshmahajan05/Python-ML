{
 "cells": [
  {
   "cell_type": "code",
   "execution_count": null,
   "id": "15c99e7b",
   "metadata": {},
   "outputs": [],
   "source": [
    "import numpy as np\n"
   ]
  },
  {
   "cell_type": "code",
   "execution_count": 7,
   "id": "edb6f335",
   "metadata": {},
   "outputs": [
    {
     "name": "stderr",
     "output_type": "stream",
     "text": [
      "Matplotlib is building the font cache; this may take a moment.\n"
     ]
    }
   ],
   "source": [
    "import matplotlib.pyplot as plt"
   ]
  },
  {
   "cell_type": "code",
   "execution_count": 8,
   "id": "e9d297c3",
   "metadata": {},
   "outputs": [
    {
     "name": "stdout",
     "output_type": "stream",
     "text": [
      "====Zomato Sales Data====\n"
     ]
    }
   ],
   "source": [
    "# Data structure: [restaurant_id, 2021, 2022, 2023, 2024]\n",
    "\n",
    "sales_data = np.array([\n",
    "\n",
    "[1, 150000, 180000, 220000, 250000], # Paradise Biryani\n",
    "\n",
    "[2, 120000, 140000, 160000, 190000], # Beijing Bites\n",
    "\n",
    "[3, 200000, 230000, 260000, 300000], # Pizza Hub\n",
    "\n",
    "[4, 180000, 210000, 240000, 270000], # Burger Point\n",
    "\n",
    "[5, 160000, 185000, 205000, 230000] # Chai Point\n",
    "\n",
    "])\n",
    "print(\"====Zomato Sales Data====\")"
   ]
  },
  {
   "cell_type": "code",
   "execution_count": 9,
   "id": "fb3c167b",
   "metadata": {},
   "outputs": [
    {
     "name": "stdout",
     "output_type": "stream",
     "text": [
      "(5, 5)\n"
     ]
    }
   ],
   "source": [
    "print(sales_data.shape)"
   ]
  },
  {
   "cell_type": "code",
   "execution_count": 11,
   "id": "e4740194",
   "metadata": {},
   "outputs": [
    {
     "data": {
      "text/plain": [
       "array([[150000, 180000, 220000, 250000],\n",
       "       [120000, 140000, 160000, 190000],\n",
       "       [200000, 230000, 260000, 300000],\n",
       "       [180000, 210000, 240000, 270000],\n",
       "       [160000, 185000, 205000, 230000]])"
      ]
     },
     "execution_count": 11,
     "metadata": {},
     "output_type": "execute_result"
    }
   ],
   "source": [
    "#slicing\n",
    "sales_data[:,1:]"
   ]
  },
  {
   "cell_type": "code",
   "execution_count": null,
   "id": "a3043a13",
   "metadata": {},
   "outputs": [
    {
     "name": "stdout",
     "output_type": "stream",
     "text": [
      "[     15  810000  945000 1085000 1240000]\n"
     ]
    }
   ],
   "source": [
    "#total sales per year\n",
    "print(np.sum(sales_data,axis=0))  ## if we want to select data col wise"
   ]
  },
  {
   "cell_type": "code",
   "execution_count": null,
   "id": "98427a83",
   "metadata": {},
   "outputs": [],
   "source": [
    "#minimum sales per restraunt\n",
    "min_sales=np.min(sales_data[:,1:],axis=1); ## if we want to select data row wise"
   ]
  },
  {
   "cell_type": "code",
   "execution_count": 14,
   "id": "4fefeb7c",
   "metadata": {},
   "outputs": [
    {
     "name": "stdout",
     "output_type": "stream",
     "text": [
      "max sales:  [200000 230000 260000 300000]\n"
     ]
    }
   ],
   "source": [
    "# max sales per year\n",
    "print(\"max sales: \",np.max(sales_data[:,1:],axis=0))"
   ]
  },
  {
   "cell_type": "code",
   "execution_count": 18,
   "id": "e860fab3",
   "metadata": {},
   "outputs": [
    {
     "name": "stdout",
     "output_type": "stream",
     "text": [
      "average sales:  [200000. 152500. 247500. 225000. 195000.]\n"
     ]
    }
   ],
   "source": [
    "#average sales per restraunt\n",
    "avg=np.mean(sales_data[:,1:],axis=1)\n",
    "print(\"average sales: \",np.mean(sales_data[:,1:],axis=1))"
   ]
  },
  {
   "cell_type": "code",
   "execution_count": null,
   "id": "4cb2ad9e",
   "metadata": {},
   "outputs": [],
   "source": []
  }
 ],
 "metadata": {
  "kernelspec": {
   "display_name": ".venv",
   "language": "python",
   "name": "python3"
  },
  "language_info": {
   "codemirror_mode": {
    "name": "ipython",
    "version": 3
   },
   "file_extension": ".py",
   "mimetype": "text/x-python",
   "name": "python",
   "nbconvert_exporter": "python",
   "pygments_lexer": "ipython3",
   "version": "3.9.6"
  }
 },
 "nbformat": 4,
 "nbformat_minor": 5
}
