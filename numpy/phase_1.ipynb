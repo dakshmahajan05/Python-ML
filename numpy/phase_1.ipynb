{
 "cells": [
  {
   "cell_type": "markdown",
   "id": "98104604",
   "metadata": {},
   "source": [
    "## numoy array and basics \n",
    "learn abot numpy"
   ]
  },
  {
   "cell_type": "code",
   "execution_count": 1,
   "id": "8157af7b",
   "metadata": {},
   "outputs": [],
   "source": [
    "import numpy as np\n",
    "\n"
   ]
  },
  {
   "cell_type": "code",
   "execution_count": 2,
   "id": "b452feb8",
   "metadata": {},
   "outputs": [],
   "source": [
    "## creating  array from arrray listy"
   ]
  },
  {
   "cell_type": "code",
   "execution_count": 6,
   "id": "872494eb",
   "metadata": {},
   "outputs": [
    {
     "name": "stdout",
     "output_type": "stream",
     "text": [
      "1D array:  [1 2 3 4 5]\n"
     ]
    }
   ],
   "source": [
    "array_1d=np.array([1,2,3,4,5])\n",
    "print(\"1D array: \",array_1d)\n"
   ]
  },
  {
   "cell_type": "code",
   "execution_count": 9,
   "id": "7a7d42c6",
   "metadata": {},
   "outputs": [
    {
     "name": "stdout",
     "output_type": "stream",
     "text": [
      "2d array:  [[1 2 3]\n",
      " [4 5 6]]\n"
     ]
    }
   ],
   "source": [
    "array_2d=np.array([[1,2,3],[4,5,6]])\n",
    "print(\"2d array: \",array_2d)"
   ]
  },
  {
   "cell_type": "markdown",
   "id": "f9b3a9ea",
   "metadata": {},
   "source": [
    "# list vs numpy array\n",
    "\n"
   ]
  },
  {
   "cell_type": "code",
   "execution_count": null,
   "id": "bcfac291",
   "metadata": {},
   "outputs": [
    {
     "name": "stdout",
     "output_type": "stream",
     "text": [
      "pythn array multiplication:  [2 4 6]\n"
     ]
    }
   ],
   "source": [
    "np_array=np.array([1,2,3]) #elment type multiplication\n",
    "print(\"pythn array multiplication: \",np_array*2)"
   ]
  },
  {
   "cell_type": "code",
   "execution_count": 12,
   "id": "324819e4",
   "metadata": {},
   "outputs": [],
   "source": [
    "np_array=np.arange(1000)*2"
   ]
  },
  {
   "cell_type": "markdown",
   "id": "a79a485e",
   "metadata": {},
   "source": [
    "creating array from scartch\n"
   ]
  },
  {
   "cell_type": "code",
   "execution_count": 14,
   "id": "752cb653",
   "metadata": {},
   "outputs": [
    {
     "name": "stdout",
     "output_type": "stream",
     "text": [
      "[[0. 0. 0. 0.]\n",
      " [0. 0. 0. 0.]\n",
      " [0. 0. 0. 0.]]\n"
     ]
    }
   ],
   "source": [
    "#zeroes\n",
    "zeroes=np.zeros((3,4))\n",
    "print(zeroes)"
   ]
  },
  {
   "cell_type": "code",
   "execution_count": 15,
   "id": "904b0350",
   "metadata": {},
   "outputs": [
    {
     "name": "stdout",
     "output_type": "stream",
     "text": [
      "[[1. 1. 1. 1.]\n",
      " [1. 1. 1. 1.]\n",
      " [1. 1. 1. 1.]]\n"
     ]
    }
   ],
   "source": [
    "ones=np.ones((3,4))\n",
    "print(ones)"
   ]
  },
  {
   "cell_type": "code",
   "execution_count": 17,
   "id": "84b589f4",
   "metadata": {},
   "outputs": [
    {
     "name": "stdout",
     "output_type": "stream",
     "text": [
      "[[7 7]\n",
      " [7 7]]\n"
     ]
    }
   ],
   "source": [
    "fulls=np.full((2,2),7)\n",
    "print(fulls)"
   ]
  },
  {
   "cell_type": "code",
   "execution_count": 18,
   "id": "fb87771f",
   "metadata": {},
   "outputs": [
    {
     "name": "stdout",
     "output_type": "stream",
     "text": [
      "[[0.6461714  0.78857966 0.60788704]\n",
      " [0.4487998  0.33320604 0.7755347 ]]\n"
     ]
    }
   ],
   "source": [
    "random=np.random.random((2,3))\n",
    "print(random)"
   ]
  },
  {
   "cell_type": "code",
   "execution_count": 23,
   "id": "e4482900",
   "metadata": {},
   "outputs": [
    {
     "name": "stdout",
     "output_type": "stream",
     "text": [
      "[]\n"
     ]
    }
   ],
   "source": [
    "sequence=np.arange(10,10,2)\n",
    "print(sequence)"
   ]
  },
  {
   "cell_type": "markdown",
   "id": "537a9f45",
   "metadata": {},
   "source": [
    "## Vector , Matrix,tensor"
   ]
  },
  {
   "cell_type": "code",
   "execution_count": 24,
   "id": "afb6ff1b",
   "metadata": {},
   "outputs": [
    {
     "name": "stdout",
     "output_type": "stream",
     "text": [
      "[1 2 3]\n"
     ]
    }
   ],
   "source": [
    "vector=np.array([1,2,3])\n",
    "print(vector)"
   ]
  },
  {
   "cell_type": "code",
   "execution_count": 33,
   "id": "6aa9ec1d",
   "metadata": {},
   "outputs": [
    {
     "name": "stdout",
     "output_type": "stream",
     "text": [
      "[[[1 2]\n",
      "  [3 4]]\n",
      "\n",
      " [[5 6]\n",
      "  [7 8]]]\n"
     ]
    }
   ],
   "source": [
    "\n",
    "\n",
    "tensor = np.array([ [[1,2],[3,4]],\n",
    "                    [[5,6],[7,8]] ])\n",
    "\n",
    "print(tensor)\n"
   ]
  },
  {
   "cell_type": "code",
   "execution_count": 35,
   "id": "59a59769",
   "metadata": {},
   "outputs": [
    {
     "name": "stdout",
     "output_type": "stream",
     "text": [
      "[[[1 2]\n",
      "  [3 4]]\n",
      "\n",
      " [[5 6]\n",
      "  [7 8]]]\n"
     ]
    }
   ],
   "source": [
    "tensor=np.array([[[1,2],[3,4]],\n",
    "                 [[5,6],[7,8]]])\n",
    "print(tensor)"
   ]
  },
  {
   "cell_type": "markdown",
   "id": "0609a6e3",
   "metadata": {},
   "source": [
    "## Array properties"
   ]
  },
  {
   "cell_type": "code",
   "execution_count": 37,
   "id": "b38f5e8b",
   "metadata": {},
   "outputs": [
    {
     "name": "stdout",
     "output_type": "stream",
     "text": [
      "shape:  (2, 3)\n",
      "dimension:  2\n",
      "size:  6\n",
      "type:  int64\n"
     ]
    }
   ],
   "source": [
    "arr=np.array([[1,2,3],[4,5,6]])\n",
    "print(\"shape: \",arr.shape)\n",
    "print(\"dimension: \",arr.ndim)\n",
    "print(\"size: \",arr.size)\n",
    "print(\"type: \",arr.dtype)"
   ]
  },
  {
   "cell_type": "markdown",
   "id": "ac75d5d9",
   "metadata": {},
   "source": [
    "# Array reshaping"
   ]
  },
  {
   "cell_type": "code",
   "execution_count": 51,
   "id": "15f62faa",
   "metadata": {},
   "outputs": [
    {
     "name": "stdout",
     "output_type": "stream",
     "text": [
      "[1 2 3 4 5 6]\n",
      "[[1 2 3]\n",
      " [4 5 6]]\n",
      "[1 2 3 4 5 6]\n"
     ]
    }
   ],
   "source": [
    "arr=np.array([1,2,3,4,5,6])\n",
    "print(arr )\n",
    "\n",
    "reshaped=arr.reshape((2,3))\n",
    "print(reshaped)\n",
    "\n",
    "flatened=reshaped.flatten()\n",
    "print(flatened)"
   ]
  },
  {
   "cell_type": "markdown",
   "id": "b2c337f2",
   "metadata": {},
   "source": [
    "## Transposed"
   ]
  },
  {
   "cell_type": "code",
   "execution_count": 54,
   "id": "c140f3d8",
   "metadata": {},
   "outputs": [
    {
     "name": "stdout",
     "output_type": "stream",
     "text": [
      "[[1 2 3]\n",
      " [4 5 6]]\n",
      "[[1 4]\n",
      " [2 5]\n",
      " [3 6]]\n"
     ]
    }
   ],
   "source": [
    "print(reshaped)\n",
    "transpose=reshaped.T\n",
    "print(transpose)"
   ]
  },
  {
   "cell_type": "code",
   "execution_count": null,
   "id": "1db2efc5",
   "metadata": {},
   "outputs": [],
   "source": []
  }
 ],
 "metadata": {
  "kernelspec": {
   "display_name": ".venv",
   "language": "python",
   "name": "python3"
  },
  "language_info": {
   "codemirror_mode": {
    "name": "ipython",
    "version": 3
   },
   "file_extension": ".py",
   "mimetype": "text/x-python",
   "name": "python",
   "nbconvert_exporter": "python",
   "pygments_lexer": "ipython3",
   "version": "3.9.6"
  }
 },
 "nbformat": 4,
 "nbformat_minor": 5
}
